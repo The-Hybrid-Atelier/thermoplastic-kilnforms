{
 "cells": [
  {
   "cell_type": "code",
   "execution_count": 44,
   "id": "c05ca46a",
   "metadata": {},
   "outputs": [
    {
     "name": "stdout",
     "output_type": "stream",
     "text": [
      "The autoreload extension is already loaded. To reload it, use:\n",
      "  %reload_ext autoreload\n"
     ]
    }
   ],
   "source": [
    "%load_ext autoreload\n",
    "%autoreload 2\n",
    "\n",
    "import kilnforms"
   ]
  },
  {
   "cell_type": "markdown",
   "id": "972628a4",
   "metadata": {},
   "source": [
    "# Querying the Ontology"
   ]
  },
  {
   "cell_type": "code",
   "execution_count": 155,
   "id": "b4c2fc63",
   "metadata": {},
   "outputs": [
    {
     "data": {
      "text/markdown": [
       "# kilnforms.FieldsScreenMelt"
      ],
      "text/plain": [
       "<IPython.core.display.Markdown object>"
      ]
     },
     "metadata": {},
     "output_type": "display_data"
    },
    {
     "data": {
      "text/markdown": [
       "## Comments"
      ],
      "text/plain": [
       "<IPython.core.display.Markdown object>"
      ]
     },
     "metadata": {},
     "output_type": "display_data"
    },
    {
     "data": {
      "text/markdown": [
       "None"
      ],
      "text/plain": [
       "<IPython.core.display.Markdown object>"
      ]
     },
     "metadata": {},
     "output_type": "display_data"
    },
    {
     "data": {
      "text/markdown": [
       "## Subclasses"
      ],
      "text/plain": [
       "<IPython.core.display.Markdown object>"
      ]
     },
     "metadata": {},
     "output_type": "display_data"
    },
    {
     "data": {
      "text/markdown": [
       "None found."
      ],
      "text/plain": [
       "<IPython.core.display.Markdown object>"
      ]
     },
     "metadata": {},
     "output_type": "display_data"
    },
    {
     "data": {
      "text/markdown": [
       "## Parents"
      ],
      "text/plain": [
       "<IPython.core.display.Markdown object>"
      ]
     },
     "metadata": {},
     "output_type": "display_data"
    },
    {
     "data": {
      "text/markdown": [
       "\n",
       "* kilnforms.LiquidTechnique\n",
       "* kilnforms.GravityPour\n",
       "* kilnforms.Pour\n",
       "* kilnforms.FieldsScreenMelt\n",
       "* kilnforms.KilncastingTechnique\n",
       "* owl.Thing\n",
       "* kilnforms.Technique"
      ],
      "text/plain": [
       "<IPython.core.display.Markdown object>"
      ]
     },
     "metadata": {},
     "output_type": "display_data"
    },
    {
     "data": {
      "text/markdown": [
       "## Instances"
      ],
      "text/plain": [
       "<IPython.core.display.Markdown object>"
      ]
     },
     "metadata": {},
     "output_type": "display_data"
    },
    {
     "data": {
      "text/markdown": [
       "\n",
       "* kilnforms.FieldsScreenMelt"
      ],
      "text/plain": [
       "<IPython.core.display.Markdown object>"
      ]
     },
     "metadata": {},
     "output_type": "display_data"
    }
   ],
   "source": [
    "result = kilnforms.json(\"FieldsScreenMelt\")\n",
    "kilnforms.markdown_concept(result)"
   ]
  },
  {
   "cell_type": "code",
   "execution_count": 304,
   "id": "a02c68d5",
   "metadata": {},
   "outputs": [
    {
     "name": "stdout",
     "output_type": "stream",
     "text": [
      "kilnforms.alters\n",
      "[]\n",
      "kilnforms.configured\n",
      "[]\n",
      "kilnforms.consumes\n",
      "[]\n",
      "kilnforms.deforms\n",
      "[kilnforms.Material]\n",
      "kilnforms.driven_by\n",
      "[kilnforms.Forces]\n",
      "kilnforms.has\n",
      "[]\n",
      "kilnforms.has_form\n",
      "[kilnforms.PrimitiveFormFactor]\n",
      "kilnforms.made_of\n",
      "[kilnforms.Physical_Material]\n",
      "kilnforms.manipulates\n",
      "[]\n",
      "kilnforms.melts\n",
      "[]\n",
      "kilnforms.produces\n",
      "[kilnforms.Form]\n",
      "kilnforms.within\n",
      "[kilnforms.Environment]\n"
     ]
    }
   ],
   "source": [
    "result = kilnforms.json(\"Material\")\n",
    "# dir(result)\n",
    "obj = result[\"entity\"]\n",
    "# obj.object_properties()\n",
    "for x in list(kilnforms.onto.object_properties()):\n",
    "    print(x)\n",
    "    print(x.range)\n",
    "# kilnforms.markdown_concept(result)"
   ]
  },
  {
   "cell_type": "code",
   "execution_count": 309,
   "id": "8cf9fdb1",
   "metadata": {},
   "outputs": [
    {
     "data": {
      "text/markdown": [
       "# Technique"
      ],
      "text/plain": [
       "<IPython.core.display.Markdown object>"
      ]
     },
     "metadata": {},
     "output_type": "display_data"
    },
    {
     "data": {
      "text/markdown": [
       "## Subclasses"
      ],
      "text/plain": [
       "<IPython.core.display.Markdown object>"
      ]
     },
     "metadata": {},
     "output_type": "display_data"
    },
    {
     "data": {
      "text/markdown": [
       "\n",
       "* HoneyTechnique\n",
       "* LeatherTechnique\n",
       "* LiquidTechnique\n",
       "* RubberTechnique"
      ],
      "text/plain": [
       "<IPython.core.display.Markdown object>"
      ]
     },
     "metadata": {},
     "output_type": "display_data"
    },
    {
     "data": {
      "text/markdown": [
       "## Parents"
      ],
      "text/plain": [
       "<IPython.core.display.Markdown object>"
      ]
     },
     "metadata": {},
     "output_type": "display_data"
    },
    {
     "data": {
      "text/markdown": [
       "\n",
       "* Technique\n",
       "* Thing"
      ],
      "text/plain": [
       "<IPython.core.display.Markdown object>"
      ]
     },
     "metadata": {},
     "output_type": "display_data"
    },
    {
     "data": {
      "text/markdown": [
       "## Instances"
      ],
      "text/plain": [
       "<IPython.core.display.Markdown object>"
      ]
     },
     "metadata": {},
     "output_type": "display_data"
    },
    {
     "data": {
      "text/markdown": [
       "\n",
       "* FieldsScreenMelt\n",
       "* KilnformsHingeComposite\n",
       "* SideBySideFusionExperiment\n",
       "* MatthewSzösz\n",
       "* GlassContinuousDeposition\n",
       "* Mesospace\n",
       "* PressedGlass\n",
       "* GinsbergPullingStrings\n",
       "* LewisSpinCast\n",
       "* BradyVitrigraph"
      ],
      "text/plain": [
       "<IPython.core.display.Markdown object>"
      ]
     },
     "metadata": {},
     "output_type": "display_data"
    }
   ],
   "source": [
    "result = kilnforms.json(\"Technique\")\n",
    "kilnforms.markdown_concept(result)\n",
    "# list(kilnforms.onto.individuals())\n",
    "# list(kilnforms.onto.consumes.subclasses())"
   ]
  },
  {
   "cell_type": "code",
   "execution_count": 259,
   "id": "75e8e8f1",
   "metadata": {},
   "outputs": [
    {
     "data": {
      "text/plain": [
       "[(kilnforms.FieldsScreenMelt, kilnforms.SodaLimeGlass),\n",
       " (kilnforms.GinsbergPullingStrings, kilnforms.SodaLimeGlass),\n",
       " (kilnforms.MatthewSzösz, kilnforms.GlassblowingMaterial)]"
      ]
     },
     "execution_count": 259,
     "metadata": {},
     "output_type": "execute_result"
    }
   ],
   "source": [
    "list(kilnforms.onto.consumes.get_relations())"
   ]
  }
 ],
 "metadata": {
  "kernelspec": {
   "display_name": "Python 3 (ipykernel)",
   "language": "python",
   "name": "python3"
  },
  "language_info": {
   "codemirror_mode": {
    "name": "ipython",
    "version": 3
   },
   "file_extension": ".py",
   "mimetype": "text/x-python",
   "name": "python",
   "nbconvert_exporter": "python",
   "pygments_lexer": "ipython3",
   "version": "3.9.12"
  }
 },
 "nbformat": 4,
 "nbformat_minor": 5
}
